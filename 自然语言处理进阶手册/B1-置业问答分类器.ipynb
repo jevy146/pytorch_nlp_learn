{
 "cells": [
  {
   "cell_type": "markdown",
   "id": "eaa2bf75",
   "metadata": {},
   "source": [
    "## 置业问答分类器"
   ]
  },
  {
   "cell_type": "code",
   "execution_count": null,
   "id": "d0c9673b",
   "metadata": {},
   "outputs": [],
   "source": []
  }
 ],
 "metadata": {
  "kernelspec": {
   "display_name": "pytorch_nlp",
   "language": "python",
   "name": "pytorch_nlp"
  },
  "language_info": {
   "codemirror_mode": {
    "name": "ipython",
    "version": 3
   },
   "file_extension": ".py",
   "mimetype": "text/x-python",
   "name": "python",
   "nbconvert_exporter": "python",
   "pygments_lexer": "ipython3",
   "version": "3.7.9"
  }
 },
 "nbformat": 4,
 "nbformat_minor": 5
}
